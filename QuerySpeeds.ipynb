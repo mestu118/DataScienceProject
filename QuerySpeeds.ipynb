{
 "cells": [
  {
   "cell_type": "markdown",
   "metadata": {},
   "source": [
    "# Put the appropriate data that Avi sent "
   ]
  },
  {
   "cell_type": "code",
   "execution_count": 1,
   "metadata": {},
   "outputs": [],
   "source": [
    "import pandas as pd\n",
    "import numpy as np\n",
    "\n",
    "df1=pd.read_excel('NY_Vehicle_Motor_2017.xlsx')"
   ]
  },
  {
   "cell_type": "code",
   "execution_count": 2,
   "metadata": {},
   "outputs": [],
   "source": [
    "df1.columns=[c.replace(' ','_') for c in df1.columns]\n",
    "df1=df1.rename(index=str, columns={\"Type_/_Axles_of_Truck_or_Bus\": \"Axel_Count\"\n",
    "                                 ,\"Contributing_Factor_1\":\"CF1\"\n",
    "                                 ,\"Contributing_Factor_1_Description\":\"CF1_Descr\"\n",
    "                                 ,\"Contributing_Factor_2\":\"CF2\"\n",
    "                                 ,\"Contributing_Factor_2_Description\":\"CF2_Descr\"\n",
    "                                })"
   ]
  },
  {
   "cell_type": "code",
   "execution_count": 3,
   "metadata": {},
   "outputs": [],
   "source": [
    "import overpy\n",
    "import sys\n",
    "\n",
    "def maxspeed(coordinates, radius):\n",
    "    lat, lon = coordinates\n",
    "    api = overpy.Overpass()\n",
    "\n",
    "# fetch all ways and nodes\n",
    "    result = api.query(\"\"\"\n",
    "            way(around:\"\"\" + radius + \"\"\",\"\"\" + lat  + \"\"\",\"\"\" + lon  + \"\"\") [\"maxspeed\"];\n",
    "                (._;>;);\n",
    "                    out body;\n",
    "                        \"\"\")\n",
    "    results_list = []\n",
    "    for way in result.ways:\n",
    "        road = {}\n",
    "        road[\"name\"] = way.tags.get(\"name\", \"n/a\")\n",
    "        road[\"speed_limit\"] = way.tags.get(\"maxspeed\", \"n/a\")\n",
    "        nodes = []\n",
    "        for node in way.nodes:\n",
    "            nodes.append((node.lat, node.lon))\n",
    "        road[\"nodes\"] = nodes\n",
    "        results_list.append(road)\n",
    "    return results_list\n"
   ]
  },
  {
   "cell_type": "code",
   "execution_count": 4,
   "metadata": {},
   "outputs": [],
   "source": [
    "def function(x):\n",
    "    ret = eval(x)\n",
    "    return (str(ret[0]), str(ret[1]))"
   ]
  },
  {
   "cell_type": "code",
   "execution_count": 5,
   "metadata": {},
   "outputs": [],
   "source": [
    "def function2(x):\n",
    "    retval = maxspeed(x, str(10)) \n",
    "    if retval:\n",
    "        return retval[0]['speed_limit']\n",
    "    else:\n",
    "        return None"
   ]
  },
  {
   "cell_type": "code",
   "execution_count": 6,
   "metadata": {},
   "outputs": [],
   "source": [
    "import time\n",
    "location_key_df = df1['LOCATION'].dropna().value_counts()\n",
    "most_frequent = location_key_df.index[0:-1]\n",
    "correct_vals = []\n",
    "for x in most_frequent:\n",
    "    correct_vals.append(function(x))\n",
    "    \n",
    "speeds = [0]*len(correct_vals)\n",
    "speeds = {}\n",
    "for idx, x in enumerate(correct_vals):\n",
    "    try:\n",
    "        key = (eval(x[0]), eval(x[1]))\n",
    "        speeds[key] = function2(x)\n",
    "    except:\n",
    "        pass\n",
    "    time.sleep(0.2)"
   ]
  },
  {
   "cell_type": "code",
   "execution_count": 23,
   "metadata": {},
   "outputs": [],
   "source": [
    "pd.DataFrame.from_dict(data=speeds, orient='index').to_csv('dict_file2.csv', header=False)"
   ]
  },
  {
   "cell_type": "code",
   "execution_count": null,
   "metadata": {},
   "outputs": [],
   "source": []
  }
 ],
 "metadata": {
  "kernelspec": {
   "display_name": "Python 3",
   "language": "python",
   "name": "python3"
  },
  "language_info": {
   "codemirror_mode": {
    "name": "ipython",
    "version": 3
   },
   "file_extension": ".py",
   "mimetype": "text/x-python",
   "name": "python",
   "nbconvert_exporter": "python",
   "pygments_lexer": "ipython3",
   "version": "3.6.5"
  }
 },
 "nbformat": 4,
 "nbformat_minor": 2
}
